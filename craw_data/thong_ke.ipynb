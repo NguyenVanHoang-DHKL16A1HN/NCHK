{
 "cells": [
  {
   "cell_type": "code",
   "execution_count": 1,
   "metadata": {},
   "outputs": [],
   "source": [
    "import pandas as pd\n",
    "import numpy as np\n",
    "import matplotlib.pyplot as plt\n"
   ]
  },
  {
   "cell_type": "code",
   "execution_count": 2,
   "metadata": {},
   "outputs": [],
   "source": [
    "# Đọc file CSV\n",
    "df = pd.read_csv('F:/NCKH/craw_data/data/thuc_pham_chuc_nang/shop_Konni39_Thu_Duc.csv', header=None)\n",
    "\n",
    "# Gán tên cột\n",
    "df.columns = ['Review', 'Rating', 'Date']\n",
    "\n",
    "# Lưu file CSV mới với tiêu đề\n",
    "df.to_csv('shop_Konni39_Thu_Duc.csv', index=False)"
   ]
  },
  {
   "cell_type": "code",
   "execution_count": null,
   "metadata": {},
   "outputs": [],
   "source": [
    "\n",
    "# Xóa các hàng trùng lặp\n",
    "df = df.drop_duplicates()"
   ]
  },
  {
   "cell_type": "code",
   "execution_count": 3,
   "metadata": {},
   "outputs": [],
   "source": [
    "#Đọc file csv cong_nghe\n",
    "data_1 = pd.read_csv('F:/NCKH/craw_data/data/cong_nghe/shop_Camera_Toan_Cau.csv')\n",
    "data_2 = pd.read_csv('F:/NCKH/craw_data/data/cong_nghe/shop_EZVIZ_VN_Authorized_Store.csv')\n",
    "data_3 = pd.read_csv('F:/NCKH/craw_data/data/cong_nghe/shop_Zentino.csv')\n"
   ]
  },
  {
   "cell_type": "code",
   "execution_count": 5,
   "metadata": {},
   "outputs": [
    {
     "data": {
      "text/html": [
       "<div>\n",
       "<style scoped>\n",
       "    .dataframe tbody tr th:only-of-type {\n",
       "        vertical-align: middle;\n",
       "    }\n",
       "\n",
       "    .dataframe tbody tr th {\n",
       "        vertical-align: top;\n",
       "    }\n",
       "\n",
       "    .dataframe thead th {\n",
       "        text-align: right;\n",
       "    }\n",
       "</style>\n",
       "<table border=\"1\" class=\"dataframe\">\n",
       "  <thead>\n",
       "    <tr style=\"text-align: right;\">\n",
       "      <th></th>\n",
       "      <th>Review</th>\n",
       "      <th>Rating</th>\n",
       "      <th>Date</th>\n",
       "    </tr>\n",
       "  </thead>\n",
       "  <tbody>\n",
       "    <tr>\n",
       "      <th>0</th>\n",
       "      <td>NaN</td>\n",
       "      <td>1</td>\n",
       "      <td>18 thg 8 2020</td>\n",
       "    </tr>\n",
       "    <tr>\n",
       "      <th>1</th>\n",
       "      <td>NaN</td>\n",
       "      <td>1</td>\n",
       "      <td>21 thg 9 2020</td>\n",
       "    </tr>\n",
       "    <tr>\n",
       "      <th>2</th>\n",
       "      <td>NaN</td>\n",
       "      <td>1</td>\n",
       "      <td>13 thg 11 2020</td>\n",
       "    </tr>\n",
       "    <tr>\n",
       "      <th>3</th>\n",
       "      <td>hàng ok lắm</td>\n",
       "      <td>1</td>\n",
       "      <td>29 thg 12 2023</td>\n",
       "    </tr>\n",
       "    <tr>\n",
       "      <th>4</th>\n",
       "      <td>NaN</td>\n",
       "      <td>1</td>\n",
       "      <td>19 thg 10 2021</td>\n",
       "    </tr>\n",
       "    <tr>\n",
       "      <th>...</th>\n",
       "      <td>...</td>\n",
       "      <td>...</td>\n",
       "      <td>...</td>\n",
       "    </tr>\n",
       "    <tr>\n",
       "      <th>995</th>\n",
       "      <td>NaN</td>\n",
       "      <td>5</td>\n",
       "      <td>26 thg 9 2020</td>\n",
       "    </tr>\n",
       "    <tr>\n",
       "      <th>996</th>\n",
       "      <td>Chất lượng camera dỏm, hình delay, khi nhấn qu...</td>\n",
       "      <td>5</td>\n",
       "      <td>20 thg 8 2023</td>\n",
       "    </tr>\n",
       "    <tr>\n",
       "      <th>997</th>\n",
       "      <td>quá ngon luôn. tốt trong tầm giá. cảm biến chu...</td>\n",
       "      <td>5</td>\n",
       "      <td>04 thg 12 2020</td>\n",
       "    </tr>\n",
       "    <tr>\n",
       "      <th>998</th>\n",
       "      <td>Khi nhấn vô nói rè và ồ kinh khủng</td>\n",
       "      <td>5</td>\n",
       "      <td>21 thg 5 2021</td>\n",
       "    </tr>\n",
       "    <tr>\n",
       "      <th>999</th>\n",
       "      <td>NaN</td>\n",
       "      <td>5</td>\n",
       "      <td>28 thg 8 2020</td>\n",
       "    </tr>\n",
       "  </tbody>\n",
       "</table>\n",
       "<p>1000 rows × 3 columns</p>\n",
       "</div>"
      ],
      "text/plain": [
       "                                                Review  Rating            Date\n",
       "0                                                  NaN       1   18 thg 8 2020\n",
       "1                                                  NaN       1   21 thg 9 2020\n",
       "2                                                  NaN       1  13 thg 11 2020\n",
       "3                                        hàng ok lắm         1  29 thg 12 2023\n",
       "4                                                  NaN       1  19 thg 10 2021\n",
       "..                                                 ...     ...             ...\n",
       "995                                                NaN       5   26 thg 9 2020\n",
       "996  Chất lượng camera dỏm, hình delay, khi nhấn qu...       5   20 thg 8 2023\n",
       "997  quá ngon luôn. tốt trong tầm giá. cảm biến chu...       5  04 thg 12 2020\n",
       "998                 Khi nhấn vô nói rè và ồ kinh khủng       5   21 thg 5 2021\n",
       "999                                                NaN       5   28 thg 8 2020\n",
       "\n",
       "[1000 rows x 3 columns]"
      ]
     },
     "execution_count": 5,
     "metadata": {},
     "output_type": "execute_result"
    }
   ],
   "source": [
    "data_1"
   ]
  },
  {
   "cell_type": "code",
   "execution_count": 6,
   "metadata": {},
   "outputs": [],
   "source": [
    "#đếm giá trị NaN \n",
    "NaN_data_1 = data_1['Review'].isna().sum()\n",
    "NaN_data_2 = data_2['Review'].isna().sum()\n",
    "NaN_data_3 = data_3['Review'].isna().sum()\n"
   ]
  },
  {
   "cell_type": "code",
   "execution_count": 7,
   "metadata": {},
   "outputs": [
    {
     "name": "stdout",
     "output_type": "stream",
     "text": [
      "500\n"
     ]
    }
   ],
   "source": [
    "print(NaN_data_1)"
   ]
  },
  {
   "cell_type": "code",
   "execution_count": 11,
   "metadata": {},
   "outputs": [
    {
     "data": {
      "text/html": [
       "<div>\n",
       "<style scoped>\n",
       "    .dataframe tbody tr th:only-of-type {\n",
       "        vertical-align: middle;\n",
       "    }\n",
       "\n",
       "    .dataframe tbody tr th {\n",
       "        vertical-align: top;\n",
       "    }\n",
       "\n",
       "    .dataframe thead th {\n",
       "        text-align: right;\n",
       "    }\n",
       "</style>\n",
       "<table border=\"1\" class=\"dataframe\">\n",
       "  <thead>\n",
       "    <tr style=\"text-align: right;\">\n",
       "      <th></th>\n",
       "      <th>Review</th>\n",
       "      <th>Rating</th>\n",
       "      <th>Date</th>\n",
       "    </tr>\n",
       "  </thead>\n",
       "  <tbody>\n",
       "    <tr>\n",
       "      <th>0</th>\n",
       "      <td>NaN</td>\n",
       "      <td>1</td>\n",
       "      <td>18 thg 8 2020</td>\n",
       "    </tr>\n",
       "    <tr>\n",
       "      <th>1</th>\n",
       "      <td>NaN</td>\n",
       "      <td>1</td>\n",
       "      <td>21 thg 9 2020</td>\n",
       "    </tr>\n",
       "    <tr>\n",
       "      <th>2</th>\n",
       "      <td>NaN</td>\n",
       "      <td>1</td>\n",
       "      <td>13 thg 11 2020</td>\n",
       "    </tr>\n",
       "    <tr>\n",
       "      <th>3</th>\n",
       "      <td>hàng ok lắm</td>\n",
       "      <td>1</td>\n",
       "      <td>29 thg 12 2023</td>\n",
       "    </tr>\n",
       "    <tr>\n",
       "      <th>4</th>\n",
       "      <td>NaN</td>\n",
       "      <td>1</td>\n",
       "      <td>19 thg 10 2021</td>\n",
       "    </tr>\n",
       "    <tr>\n",
       "      <th>...</th>\n",
       "      <td>...</td>\n",
       "      <td>...</td>\n",
       "      <td>...</td>\n",
       "    </tr>\n",
       "    <tr>\n",
       "      <th>995</th>\n",
       "      <td>NaN</td>\n",
       "      <td>5</td>\n",
       "      <td>26 thg 9 2020</td>\n",
       "    </tr>\n",
       "    <tr>\n",
       "      <th>996</th>\n",
       "      <td>Chất lượng camera dỏm, hình delay, khi nhấn qu...</td>\n",
       "      <td>5</td>\n",
       "      <td>20 thg 8 2023</td>\n",
       "    </tr>\n",
       "    <tr>\n",
       "      <th>997</th>\n",
       "      <td>quá ngon luôn. tốt trong tầm giá. cảm biến chu...</td>\n",
       "      <td>5</td>\n",
       "      <td>04 thg 12 2020</td>\n",
       "    </tr>\n",
       "    <tr>\n",
       "      <th>998</th>\n",
       "      <td>Khi nhấn vô nói rè và ồ kinh khủng</td>\n",
       "      <td>5</td>\n",
       "      <td>21 thg 5 2021</td>\n",
       "    </tr>\n",
       "    <tr>\n",
       "      <th>999</th>\n",
       "      <td>NaN</td>\n",
       "      <td>5</td>\n",
       "      <td>28 thg 8 2020</td>\n",
       "    </tr>\n",
       "  </tbody>\n",
       "</table>\n",
       "<p>1000 rows × 3 columns</p>\n",
       "</div>"
      ],
      "text/plain": [
       "                                                Review  Rating            Date\n",
       "0                                                  NaN       1   18 thg 8 2020\n",
       "1                                                  NaN       1   21 thg 9 2020\n",
       "2                                                  NaN       1  13 thg 11 2020\n",
       "3                                        hàng ok lắm         1  29 thg 12 2023\n",
       "4                                                  NaN       1  19 thg 10 2021\n",
       "..                                                 ...     ...             ...\n",
       "995                                                NaN       5   26 thg 9 2020\n",
       "996  Chất lượng camera dỏm, hình delay, khi nhấn qu...       5   20 thg 8 2023\n",
       "997  quá ngon luôn. tốt trong tầm giá. cảm biến chu...       5  04 thg 12 2020\n",
       "998                 Khi nhấn vô nói rè và ồ kinh khủng       5   21 thg 5 2021\n",
       "999                                                NaN       5   28 thg 8 2020\n",
       "\n",
       "[1000 rows x 3 columns]"
      ]
     },
     "execution_count": 11,
     "metadata": {},
     "output_type": "execute_result"
    }
   ],
   "source": [
    "data_1"
   ]
  },
  {
   "cell_type": "code",
   "execution_count": 29,
   "metadata": {},
   "outputs": [
    {
     "data": {
      "image/png": "[encoded data removed]",
      "text/plain": [
       "<Figure size 800x600 with 1 Axes>"
      ]
     },
     "metadata": {},
     "output_type": "display_data"
    }
   ],
   "source": [
    "x = ['data_1','data_2','data_3']\n",
    "y = [NaN_data_1,NaN_data_2,NaN_data_3 ]\n",
    "plt.figure(figsize=(8, 6))\n",
    "plt.bar(x, y)\n",
    "plt.xlabel(\"Loại dữ liệu\")\n",
    "plt.ylabel(\"Số lượng giá trị NaN\")\n",
    "plt.title(\"Biểu đồ giá trị NaN \")\n",
    "plt.show()"
   ]
  },
  {
   "cell_type": "code",
   "execution_count": 17,
   "metadata": {},
   "outputs": [],
   "source": [
    "rating_data_1 = pd.concat([data_3[\"Rating\"] for file in data_1], ignore_index=True)"
   ]
  },
  {
   "cell_type": "code",
   "execution_count": 23,
   "metadata": {},
   "outputs": [
    {
     "data": {
      "text/plain": [
       "array([1, 1, 1, ..., 5, 5, 5], dtype=int64)"
      ]
     },
     "execution_count": 23,
     "metadata": {},
     "output_type": "execute_result"
    }
   ],
   "source": [
    "rating= np.concatenate([np.array(data_1['Rating']),np.array(data_2['Rating']),np.array(data_3['Rating'])])\n",
    "rating"
   ]
  },
  {
   "cell_type": "code",
   "execution_count": 26,
   "metadata": {},
   "outputs": [
    {
     "data": {
      "text/plain": [
       "2442"
      ]
     },
     "execution_count": 26,
     "metadata": {},
     "output_type": "execute_result"
    }
   ],
   "source": [
    "# Lượng rating tích cực\n",
    "rating[rating >4].size"
   ]
  },
  {
   "cell_type": "code",
   "execution_count": 27,
   "metadata": {},
   "outputs": [
    {
     "data": {
      "text/plain": [
       "45"
      ]
     },
     "execution_count": 27,
     "metadata": {},
     "output_type": "execute_result"
    }
   ],
   "source": [
    "# Lượng rating tiêu cực\n",
    "rating[rating < 4].size"
   ]
  },
  {
   "cell_type": "code",
   "execution_count": null,
   "metadata": {},
   "outputs": [
    {
     "data": {
      "text/plain": [
       "4.9175377468060395"
      ]
     },
     "execution_count": 30,
     "metadata": {},
     "output_type": "execute_result"
    }
   ],
   "source": [
    "# Trung bình đánh giá \n",
    "rating.mean()"
   ]
  },
  {
   "cell_type": "code",
   "execution_count": null,
   "metadata": {},
   "outputs": [
    {
     "name": "stdout",
     "output_type": "stream",
     "text": [
      "0.16160880374358746\n",
      "0.4020059747610568\n"
     ]
    }
   ],
   "source": [
    "# Phương sai\n",
    "print(np.var(rating))\n",
    "#Phương sai lớn cho thấy được sự đánh giá của các phim không đồng đều\n",
    "# Độ lệch chuẩn\n",
    "print(np.std(rating))"
   ]
  },
  {
   "cell_type": "code",
   "execution_count": 34,
   "metadata": {},
   "outputs": [
    {
     "name": "stdout",
     "output_type": "stream",
     "text": [
      "Q1 = :  5.0\n",
      "Q2 = :  5.0\n",
      "Q3 = :  5.0\n"
     ]
    }
   ],
   "source": [
    "#Phân vị\n",
    "print(\"Q1 = : \", np.quantile(rating, 0.25))\n",
    "print(\"Q2 = : \", np.quantile(rating, 0.5))\n",
    "print(\"Q3 = : \", np.quantile(rating, 0.75))"
   ]
  },
  {
   "cell_type": "code",
   "execution_count": 34,
   "metadata": {},
   "outputs": [],
   "source": [
    "#my_pham\n",
    "data_4 = pd.read_csv('F:/NCKH/craw_data/data/my_pham/shop_Guardian.csv')\n",
    "data_5 = pd.read_csv('F:/NCKH/craw_data/data/my_pham/shop_HadaLabo.csv')\n",
    "data_6 = pd.read_csv('F:/NCKH/craw_data/data/my_pham/shop_KITY COSMETIC.csv')"
   ]
  },
  {
   "cell_type": "code",
   "execution_count": 36,
   "metadata": {},
   "outputs": [],
   "source": [
    "#thuc_pham_chuc_nang\n",
    "data_7 = pd.read_csv('F:/NCKH/craw_data/data/thuc_pham_chuc_nang/shop_Cosin_Store.csv')\n",
    "data_8 = pd.read_csv('F:/NCKH/craw_data/data/thuc_pham_chuc_nang/shop_DHC.csv')\n",
    "data_9 = pd.read_csv('F:/NCKH/craw_data/data/thuc_pham_chuc_nang/shop_Konni39_Thu_Duc.csv')"
   ]
  },
  {
   "cell_type": "code",
   "execution_count": 8,
   "metadata": {},
   "outputs": [
    {
     "data": {
      "text/plain": [
       "500"
      ]
     },
     "execution_count": 8,
     "metadata": {},
     "output_type": "execute_result"
    }
   ],
   "source": [
    "data_1_nan =  data_1[data_1['Review'].isna() == True].shape[0]\n",
    "data_1_nan"
   ]
  }
 ],
 "metadata": {
  "kernelspec": {
   "display_name": "Python 3",
   "language": "python",
   "name": "python3"
  },
  "language_info": {
   "codemirror_mode": {
    "name": "ipython",
    "version": 3
   },
   "file_extension": ".py",
   "mimetype": "text/x-python",
   "name": "python",
   "nbconvert_exporter": "python",
   "pygments_lexer": "ipython3",
   "version": "3.9.12"
  }
 },
 "nbformat": 4,
 "nbformat_minor": 2
}
