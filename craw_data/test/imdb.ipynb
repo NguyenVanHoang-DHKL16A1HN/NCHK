{
 "cells": [
  {
   "cell_type": "code",
   "execution_count": 7,
   "metadata": {},
   "outputs": [],
   "source": [
    "from selenium import webdriver\n",
    "from selenium.webdriver.common.keys import Keys\n",
    "from selenium.webdriver.common.by import By\n",
    "import re\n",
    "import time\n",
    "import csv\n",
    "import numpy as np\n",
    "driver = webdriver.Chrome()\n",
    "driver.get(\"https://www.imdb.com/title/tt23778430/reviews/?ref_=tt_urv_sm\")\n",
    "time.sleep(30)\n",
    "\n",
    "# Nhấn nút \"Load More\" nếu có\n",
    "while True:\n",
    "    try:\n",
    "        load_more_button = driver.find_element(By.CLASS_NAME, 'ipl-load-more__button')\n",
    "        load_more_button.click()\n",
    "        time.sleep(5)  # Chờ để nội dung tải\n",
    "    except:\n",
    "        break  # Không còn nút \"Load More\", thoát khỏi vòng lặp"
   ]
  },
  {
   "cell_type": "code",
   "execution_count": 8,
   "metadata": {},
   "outputs": [],
   "source": [
    "ratings = driver.find_elements(By.CLASS_NAME, 'ipl-ratings-bar')\n",
    "ratings_list = []\n",
    "\n",
    "# Trích xuất điểm số từ từng rating\n",
    "for rating in ratings:\n",
    "    try:\n",
    "        score = rating.text.split(\"/\")[0]  # Lấy điểm trước dấu \"/\"\n",
    "        ratings_list.append(float(score))\n",
    "    except:\n",
    "        continue\n",
    "\n",
    "# Lấy danh sách ngày review\n",
    "review_date = driver.find_elements(By.CLASS_NAME, 'review-date')\n",
    "review_date_list = [i.text for i in review_date]\n",
    "\n",
    "# Lấy danh sách nội dung review và xử lý\n",
    "a = driver.find_elements(By.CLASS_NAME, \"content\")\n",
    "reviews = [\n",
    "    re.sub(\n",
    "        r\"\\n\\d+ out of \\d+ found this helpful\\. Was this review helpful\\? Sign in to vote\\.\\nPermalink\", \n",
    "        \"\", \n",
    "        i.text\n",
    "    ).strip() \n",
    "    for i in a\n",
    "]"
   ]
  },
  {
   "cell_type": "code",
   "execution_count": 9,
   "metadata": {},
   "outputs": [],
   "source": [
    "\n",
    "# Ghi danh sách vào file CSV\n",
    "with open(r\"G:\\test\\data_nckh\\data\\worse\\comedy\\the_fabulous_four.csv\", mode=\"w\", newline='', encoding=\"utf-8\") as file:\n",
    "    writer = csv.writer(file)\n",
    "    \n",
    "    # Ghi tiêu đề cột\n",
    "    writer.writerow([\"Rating\", \"Review_Date\", \"Review\"])\n",
    "    \n",
    "    # Ghi từng review vào tệp CSV\n",
    "    for i in range(0, len(reviews)):\n",
    "        if i < len(ratings_list):\n",
    "            # Nếu có đủ rating, ghi vào file\n",
    "            writer.writerow([ratings_list[i], review_date_list[i], reviews[i]])\n",
    "        else:\n",
    "            # Nếu thiếu rating, dùng trung bình của các giá trị hiện có\n",
    "            writer.writerow([round(np.mean(ratings_list), 2), review_date_list[i], reviews[i]])\n"
   ]
  },
  {
   "cell_type": "code",
   "execution_count": 10,
   "metadata": {},
   "outputs": [],
   "source": [
    "driver.quit()\n"
   ]
  }
 ],
 "metadata": {
  "kernelspec": {
   "display_name": "Python 3",
   "language": "python",
   "name": "python3"
  },
  "language_info": {
   "codemirror_mode": {
    "name": "ipython",
    "version": 3
   },
   "file_extension": ".py",
   "mimetype": "text/x-python",
   "name": "python",
   "nbconvert_exporter": "python",
   "pygments_lexer": "ipython3",
   "version": "3.11.5"
  }
 },
 "nbformat": 4,
 "nbformat_minor": 2
}
