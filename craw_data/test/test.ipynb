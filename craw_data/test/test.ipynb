{
 "cells": [
  {
   "cell_type": "code",
   "execution_count": 2,
   "metadata": {},
   "outputs": [],
   "source": [
    "from selenium import webdriver\n",
    "from selenium.common.exceptions import NoSuchElementException, ElementNotInteractableException,ElementClickInterceptedException\n",
    "from selenium.webdriver.common.by import By\n",
    "from time import sleep\n",
    "import random \n",
    "import pandas as pd\n"
   ]
  },
  {
   "cell_type": "code",
   "execution_count": null,
   "metadata": {},
   "outputs": [],
   "source": [
    "#creva\n",
    "#https://www.lazada.vn/products/sua-rua-mat-cerave-noi-dia-phap-236ml-i2056309436-s9601050347.html?c=&channelLpJumpArgs=&clickTrackInfo=query%253As%2525E1%2525BB%2525AFa%252Br%2525E1%2525BB%2525ADa%252Bm%2525E1%2525BA%2525B7t%252Bcreva%253Bnid%253A2056309436%253Bsrc%253ALazadaMainSrp%253Brn%253Ad5c9725e08974eb8a801298aec6101b3%253Bregion%253Avn%253Bsku%253A2056309436_VNAMZ%253Bprice%253A105000%253Bclient%253Adesktop%253Bsupplier_id%253A200162982189%253Bbiz_source%253Ah5_hp%253Bslot%253A1%253Butlog_bucket_id%253A470687%253Basc_category_id%253A2289%253Bitem_id%253A2056309436%253Bsku_id%253A9601050347%253Bshop_id%253A1576265%253BtemplateInfo%253A107883_C_D_E%25231103_B_L%2523-1_A3%2523&freeshipping=1&fs_ab=2&fuse_fs=&lang=en&location=Vietnam&price=1.05E%205&priceCompare=skuId%3A9601050347%3Bsource%3Alazada-search-voucher%3Bsn%3Ad5c9725e08974eb8a801298aec6101b3%3BunionTrace%3A9c3b88a717305683853018135e%3BoriginPrice%3A105000%3BvoucherPrice%3A105000%3BdisplayPrice%3A105000%3BsinglePromotionId%3A-1%3BsingleToolCode%3AmockedSalePrice%3BvoucherPricePlugin%3A1%3BbuyerId%3A0%3Btimestamp%3A1730568385816&ratingscore=4.767110266159696&request_id=d5c9725e08974eb8a801298aec6101b3&review=1052&sale=3880&search=1&source=search&spm=a2o4n.searchlist.list.1&stock=1\n",
    "\n",
    "#https://www.lazada.vn/products/sua-rua-mat-giup-lam-sach-sau-danh-cho-da-dau-cerave-foaming-facial-cleanser-88ml-i2028954414-s9458350065.html?c=&channelLpJumpArgs=&clickTrackInfo=query%253As%2525E1%2525BB%2525AFa%252Br%2525E1%2525BB%2525ADa%252Bm%2525E1%2525BA%2525B7t%252Bcreva%253Bnid%253A2028954414%253Bsrc%253ALazadaMainSrp%253Brn%253Ad5c9725e08974eb8a801298aec6101b3%253Bregion%253Avn%253Bsku%253A2028954414_VNAMZ%253Bprice%253A164000%253Bclient%253Adesktop%253Bsupplier_id%253A200213787404%253Bbiz_source%253Ah5_hp%253Bslot%253A15%253Butlog_bucket_id%253A470687%253Basc_category_id%253A2289%253Bitem_id%253A2028954414%253Bsku_id%253A9458350065%253Bshop_id%253A3006941%253BtemplateInfo%253A107883_C_D_E%25231103_B_L%2523-1_A3%2523&freeshipping=1&fs_ab=2&fuse_fs=&lang=en&location=Vietnam&price=1.53E%205&priceCompare=skuId%3A9458350065%3Bsource%3Alazada-search-voucher%3Bsn%3Ad5c9725e08974eb8a801298aec6101b3%3BunionTrace%3A9c3b88a717305683853018135e%3BoriginPrice%3A164000%3BvoucherPrice%3A153000%3BdisplayPrice%3A153000%3BsinglePromotionId%3A900000033868021%3BsingleToolCode%3AmillionSubsidy%3BvoucherPricePlugin%3A1%3BbuyerId%3A0%3Btimestamp%3A1730568385816%3BsearchDisctDet%3A%5B%7B%22discountValue%22%3A11000%2C%22toolCode%22%3A%22mockedMillionSubsidy%22%2C%22voucherId%22%3A900000033868021%7D%2C%7B%22discountValue%22%3A0%2C%22newUserVoucher%22%3Afalse%2C%22toolCode%22%3A%22shopPromotionAll%22%2C%22voucherId%22%3A900000034150024%7D%5D&ratingscore=4.9449035812672175&request_id=d5c9725e08974eb8a801298aec6101b3&review=726&sale=3378&search=1&source=search&spm=a2o4n.searchlist.list.15&stock=1\n",
    "\n",
    "#https://www.lazada.vn/products/chinh-hang-my-236mlsua-rua-mat-sach-sau-cho-moi-da-duong-am-cerave-developed-with-dermatologists-foaming-cleanser-i2305636852-s11204384429.html?c=&channelLpJumpArgs=&clickTrackInfo=query%253As%2525E1%2525BB%2525AFa%252Br%2525E1%2525BB%2525ADa%252Bm%2525E1%2525BA%2525B7t%252Bcreva%253Bnid%253A2305636852%253Bsrc%253ALazadaMainSrp%253Brn%253Ad5c9725e08974eb8a801298aec6101b3%253Bregion%253Avn%253Bsku%253A2305636852_VNAMZ%253Bprice%253A160000%253Bclient%253Adesktop%253Bsupplier_id%253A200163603253%253Bbiz_source%253Ah5_hp%253Bslot%253A19%253Butlog_bucket_id%253A470687%253Basc_category_id%253A2289%253Bitem_id%253A2305636852%253Bsku_id%253A11204384429%253Bshop_id%253A1638154%253BtemplateInfo%253A107883_A3_C_D_E%25231103_B_L%2523&freeshipping=1&fs_ab=2&fuse_fs=&lang=en&location=Vietnam&price=1.6E%205&priceCompare=skuId%3A11204384429%3Bsource%3Alazada-search-voucher%3Bsn%3Ad5c9725e08974eb8a801298aec6101b3%3BunionTrace%3A9c3b88a717305683853018135e%3BoriginPrice%3A160000%3BvoucherPrice%3A160000%3BdisplayPrice%3A160000%3BsinglePromotionId%3A900000033808189%3BsingleToolCode%3ApromPrice%3BvoucherPricePlugin%3A1%3BbuyerId%3A0%3Btimestamp%3A1730568385816&ratingscore=4.911944202266783&request_id=d5c9725e08974eb8a801298aec6101b3&review=1147&sale=8817&search=1&source=search&spm=a2o4n.searchlist.list.19&stock=1"
   ]
  },
  {
   "cell_type": "code",
   "execution_count": 3,
   "metadata": {},
   "outputs": [],
   "source": [
    "driver = webdriver.Chrome()\n",
    "driver.get(\"https://www.lazada.vn/products/mua-la-co-qua-sua-rua-mat-cerave-sach-sau-cho-da-thuong-den-da-dau-cho-da-thuong-den-kho-88ml-236ml-473ml-hasaki-san-pham-chinh-hang-i2063275861-s12106264822.html?c=&channelLpJumpArgs=&clickTrackInfo=query%253As%2525E1%2525BB%2525AFa%252Br%2525E1%2525BB%2525ADa%252Bm%2525E1%2525BA%2525B7t%252Bcerave%253Bnid%253A2063275861%253Bsrc%253ALazadaMainSrp%253Brn%253A85c5c3e2c227a5c5d296c4d67146126e%253Bregion%253Avn%253Bsku%253A2063275861_VNAMZ%253Bprice%253A147000%253Bclient%253Adesktop%253Bsupplier_id%253A200183901634%253Bbiz_source%253Ah5_hp%253Bslot%253A3%253Butlog_bucket_id%253A470687%253Basc_category_id%253A2289%253Bitem_id%253A2063275861%253Bsku_id%253A12106264822%253Bshop_id%253A2757427%253BtemplateInfo%253A107883_C_D_E%25231103_B_L%2523-1_A3%2523&freeshipping=1&fs_ab=2&fuse_fs=&lang=en&location=Vietnam&price=1.47E%205&priceCompare=skuId%3A12106264822%3Bsource%3Alazada-search-voucher%3Bsn%3A85c5c3e2c227a5c5d296c4d67146126e%3BunionTrace%3A9c3b88a117287930478305884e%3BoriginPrice%3A147000%3BvoucherPrice%3A147000%3BdisplayPrice%3A147000%3BsinglePromotionId%3A-1%3BsingleToolCode%3AmockedSalePrice%3BvoucherPricePlugin%3A1%3BbuyerId%3A0%3Btimestamp%3A1728793048120&ratingscore=4.979919678714859&request_id=85c5c3e2c227a5c5d296c4d67146126e&review=746&sale=4780&search=1&source=search&spm=a2o4n.searchlist.list.3&stock=1\")"
   ]
  },
  {
   "cell_type": "code",
   "execution_count": 5,
   "metadata": {},
   "outputs": [
    {
     "data": {
      "text/plain": [
       "['14 thg 6 2024',\n",
       " '1 tuần trước',\n",
       " '10 thg 8 2024',\n",
       " '02 thg 8 2024',\n",
       " '07 thg 8 2024']"
      ]
     },
     "execution_count": 5,
     "metadata": {},
     "output_type": "execute_result"
    }
   ],
   "source": [
    "date = driver.find_elements(By.CSS_SELECTOR,\".top .title \" )\n",
    "date_cmt = [elem.text for elem in date] \n",
    "date_cmt"
   ]
  },
  {
   "cell_type": "code",
   "execution_count": 6,
   "metadata": {},
   "outputs": [
    {
     "data": {
      "text/plain": [
       "['Đã nhận dc hàng, tuy nhiên đây là hàng sản xuất tại Trung Quốc thì phải, dùng không thích bằng loại mình mua sx tại Mỹ ',\n",
       " 'Loại bỏ bụi bẩn và tạp chất ,Đủ nhẹ nhàng để sử dụng hàng ngày, Làm cho da cảm thấy tươi mát,  ',\n",
       " 'Chất lượng:  tốt,Phù hợp cho sử dụng hàng ngày, giá tốt,Dưỡng ẩm và cấp nước cho da, giao hàng nhanh,Loại bỏ bụi bẩn và tạp chất hiệu quả,  ',\n",
       " 'Giúp da trở nên khỏe mạnh, Giúp da trở nên khỏe mạnh, Giúp da trở nên khỏe mạnh, Giúp da trở nên khỏe mạnh,  ',\n",
       " 'Để lại mùi thơm dễ chịu, Lý tưởng cho da dầu, Da cảm thấy sảng khoái, Nhẹ nhàng với da nhạy cảm,  ']"
      ]
     },
     "execution_count": 6,
     "metadata": {},
     "output_type": "execute_result"
    }
   ],
   "source": [
    "content = driver.find_elements(By.CSS_SELECTOR, \".item-content .content\" )\n",
    "content_cmt = [elem.text for elem in content]\n",
    "content_cmt"
   ]
  },
  {
   "cell_type": "code",
   "execution_count": 27,
   "metadata": {},
   "outputs": [
    {
     "name": "stdout",
     "output_type": "stream",
     "text": [
      "Craw page 1\n",
      "Craw kết thúc\n"
     ]
    }
   ],
   "source": [
    "\n",
    "count = 1\n",
    "content_cmt,date_cmt = [],[]\n",
    "while True:\n",
    "      try:\n",
    "            print(\"Craw page \" + str(count))\n",
    "            count+=1\n",
    "            \n",
    "            content = driver.find_elements(By.CSS_SELECTOR, \".item-content .content\" )\n",
    "            content_cmt = [elem.text for elem in content] + content_cmt\n",
    "\n",
    "            date = driver.find_elements(By.CSS_SELECTOR,\".top .title \" )\n",
    "            date_cmt = [elem.text for elem in date] + date_cmt\n",
    "            \n",
    "            \n",
    "            next = driver.find_element(\"xpath\", \"/html/body/div[4]/div/div[10]/div[1]/div[2]/div/div/div/div[3]/div[2]/div/button[2]/i\")\n",
    "            next_cmt = next.click()\n",
    "            sleep(random.randint(3,5))\n",
    "            try :\n",
    "                  next_1 = driver.find_element(\"xpath\",\"/html/body/div[8]/div[2]/div\")\n",
    "                  next_1_cmt = next_1.click()\n",
    "                  sleep(random.randint(3,5))\n",
    "      \n",
    "            except ElementNotInteractableException:\n",
    "                  continue\n",
    "      except (ElementNotInteractableException,NoSuchElementException,ElementClickInterceptedException ):\n",
    "            print(\"Craw kết thúc\")\n",
    "            break\n",
    "      \n",
    "    \n"
   ]
  },
  {
   "cell_type": "code",
   "execution_count": 28,
   "metadata": {},
   "outputs": [
    {
     "name": "stdout",
     "output_type": "stream",
     "text": [
      "Đã lưu bình luận vào file comments.csv\n"
     ]
    }
   ],
   "source": [
    "df = pd.DataFrame(list(zip(content_cmt)),columns=[\"content_cmt\"])\n",
    "# Lưu DataFrame vào file CSV\n",
    "df.to_csv(\"comments_1.csv\", index=False, encoding='utf-8')\n",
    "print(\"Đã lưu bình luận vào file comments.csv\")\n"
   ]
  },
  {
   "cell_type": "code",
   "execution_count": null,
   "metadata": {},
   "outputs": [],
   "source": [
    "# Đọc dữ liệu từ file CSV\n",
    "filename = 'comments_1.csv'\n",
    "df = pd.read_csv(filename)\n",
    "\n",
    "# Xóa các phần tử rỗng (NaN hoặc các giá trị rỗng)\n",
    "# Dùng dropna() để xóa hàng có giá trị NaN\n",
    "df_cleaned = df.dropna()\n",
    "\n",
    "# Hoặc, nếu muốn xóa các khoảng trắng (empty strings) trong các ô\n",
    "df_cleaned = df_cleaned.replace(\"\", pd.NA).dropna()\n",
    "\n",
    "# Lưu DataFrame đã xử lý vào file CSV mới\n",
    "output_filename = 'du_lieu_cleaned.csv'\n",
    "df_cleaned.to_csv(output_filename, index=False, encoding='utf-8')\n",
    "\n",
    "print(f'Dữ liệu đã được làm sạch và lưu vào file {output_filename}')"
   ]
  },
  {
   "cell_type": "code",
   "execution_count": null,
   "metadata": {},
   "outputs": [],
   "source": [
    "import pandas as pd\n",
    "\n",
    "# Sau khi đã thu thập bình luận (content_cmt) và ngày mua (date_cmt)\n",
    "# Bạn đã có cả hai danh sách content_cmt và date_cmt với cùng số lượng phần tử\n",
    "\n",
    "# Kết hợp các danh sách vào DataFrame\n",
    "df = pd.DataFrame(list(zip(content_cmt, date_cmt)), columns=['content_cmt','date_cmt'])\n",
    "\n",
    "# Lưu DataFrame vào file CSV\n",
    "df.to_csv(\"comments_3.csv\", index=False, encoding='utf-8')\n",
    "\n",
    "print(\"Đã lưu bình luận vào file comments_3.csv\")\n"
   ]
  }
 ],
 "metadata": {
  "kernelspec": {
   "display_name": "Python 3",
   "language": "python",
   "name": "python3"
  },
  "language_info": {
   "codemirror_mode": {
    "name": "ipython",
    "version": 3
   },
   "file_extension": ".py",
   "mimetype": "text/x-python",
   "name": "python",
   "nbconvert_exporter": "python",
   "pygments_lexer": "ipython3",
   "version": "3.13.2"
  }
 },
 "nbformat": 4,
 "nbformat_minor": 2
}
