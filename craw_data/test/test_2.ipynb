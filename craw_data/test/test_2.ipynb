{
 "cells": [
  {
   "cell_type": "code",
   "execution_count": 1,
   "id": "326d6235",
   "metadata": {},
   "outputs": [],
   "source": [
    "from selenium import webdriver\n",
    "from selenium.common.exceptions import NoSuchElementException, ElementNotInteractableException,ElementClickInterceptedException,StaleElementReferenceException\n",
    "from selenium.webdriver.common.by import By\n",
    "from time import sleep\n",
    "import pandas as pd"
   ]
  },
  {
   "cell_type": "code",
   "execution_count": 9,
   "id": "0721af99",
   "metadata": {},
   "outputs": [],
   "source": [
    "#Guardian page 202\n",
    "driver = webdriver.Chrome()\n",
    "driver.get('https://www.lazada.vn/products/kem-rua-mat-duong-am-hada-labo-advanced-nourish-hyaluronic-acid-cleanser-80gr-i872294328-s2491990197.html?c=&channelLpJumpArgs=&clickTrackInfo=query%253As%2525E1%2525BB%2525AFa%252Br%2525E1%2525BB%2525ADa%252Bm%2525E1%2525BA%2525B7t%252Bhada%252Blabo%253Bnid%253A872294328%253Bsrc%253ALazadaMainSrp%253Brn%253A2db38b8db7bbad0f746ecd3bfd97593e%253Bregion%253Avn%253Bsku%253A872294328_VNAMZ%253Bprice%253A70000%253Bclient%253Adesktop%253Bsupplier_id%253A200163552658%253Bbiz_source%253Ahttps%253A%252F%252Fwww.lazada.vn%252F%253Bslot%253A1%253Butlog_bucket_id%253A470687%253Basc_category_id%253A2289%253Bitem_id%253A872294328%253Bsku_id%253A2491990197%253Bshop_id%253A1630983%253BtemplateInfo%253A107883_C_D_E%25231103_B_L%2523-1_A3%2523&freeshipping=1&fs_ab=2&fuse_fs=&lang=en&location=Vietnam&price=7E%204&priceCompare=skuId%3A2491990197%3Bsource%3Alazada-search-voucher%3Bsn%3A2db38b8db7bbad0f746ecd3bfd97593e%3BunionTrace%3A9c3b88a117305623962671582e%3BoriginPrice%3A70000%3BvoucherPrice%3A70000%3BdisplayPrice%3A70000%3BsinglePromotionId%3A-1%3BsingleToolCode%3AmockedSalePrice%3BvoucherPricePlugin%3A1%3BbuyerId%3A0%3Btimestamp%3A1730562396687&ratingscore=4.948148148148148&request_id=2db38b8db7bbad0f746ecd3bfd97593e&review=2565&sale=14155&search=1&source=search&spm=a2o4n.searchlist.list.1&stock=1')"
   ]
  },
  {
   "cell_type": "code",
   "execution_count": 17,
   "id": "5a44b047",
   "metadata": {},
   "outputs": [
    {
     "name": "stdout",
     "output_type": "stream",
     "text": [
      "Craw page 1\n",
      "Craw page 2\n",
      "Craw page 3\n",
      "Craw page 4\n",
      "Craw page 5\n",
      "Craw page 6\n",
      "Craw page 7\n",
      "Craw page 8\n",
      "Craw page 9\n",
      "Craw page 10\n",
      "Craw page 11\n",
      "Craw page 12\n",
      "Craw page 13\n",
      "Craw page 14\n",
      "Craw page 15\n",
      "Craw page 16\n",
      "Craw page 17\n",
      "Craw page 18\n",
      "Craw page 19\n",
      "Craw page 20\n",
      "Craw page 21\n",
      "Craw page 22\n",
      "Craw page 23\n",
      "Craw page 24\n",
      "Craw page 25\n",
      "Craw page 26\n",
      "Craw page 27\n",
      "Craw page 28\n",
      "Craw page 29\n",
      "Craw page 30\n",
      "Craw page 31\n",
      "Craw page 32\n",
      "Craw page 33\n",
      "Craw page 34\n",
      "Craw page 35\n",
      "Craw page 36\n",
      "Craw page 37\n",
      "Craw page 38\n",
      "Craw page 39\n",
      "Craw page 40\n",
      "Craw page 41\n",
      "Craw page 42\n",
      "Craw page 43\n",
      "Craw page 44\n",
      "Craw page 45\n",
      "Craw page 46\n",
      "Craw page 47\n",
      "Craw page 48\n",
      "Craw page 49\n",
      "Lỗi  Message: no such element: Unable to locate element: {\"method\":\"xpath\",\"selector\":\"/html/body/div[5]/div/div[10]/div[1]/div[2]/div/div/div/div[3]/div[2]/div/button[2]/i\"}\n",
      "  (Session info: chrome=136.0.7103.48); For documentation on this error, please visit: https://www.selenium.dev/documentation/webdriver/troubleshooting/errors#no-such-element-exception\n",
      "Stacktrace:\n",
      "\tGetHandleVerifier [0x00007FF72E98A145+76773]\n",
      "\tGetHandleVerifier [0x00007FF72E98A1A0+76864]\n",
      "\t(No symbol) [0x00007FF72E748F7A]\n",
      "\t(No symbol) [0x00007FF72E79F496]\n",
      "\t(No symbol) [0x00007FF72E79F74C]\n",
      "\t(No symbol) [0x00007FF72E7F2287]\n",
      "\t(No symbol) [0x00007FF72E7C739F]\n",
      "\t(No symbol) [0x00007FF72E7EF0CF]\n",
      "\t(No symbol) [0x00007FF72E7C7133]\n",
      "\t(No symbol) [0x00007FF72E7904D1]\n",
      "\t(No symbol) [0x00007FF72E791263]\n",
      "\tGetHandleVerifier [0x00007FF72EC4A8ED+2962317]\n",
      "\tGetHandleVerifier [0x00007FF72EC44EC2+2939234]\n",
      "\tGetHandleVerifier [0x00007FF72EC62FF3+3062419]\n",
      "\tGetHandleVerifier [0x00007FF72E9A4B9A+185914]\n",
      "\tGetHandleVerifier [0x00007FF72E9AC78F+217647]\n",
      "\tGetHandleVerifier [0x00007FF72E992A44+111844]\n",
      "\tGetHandleVerifier [0x00007FF72E992BF2+112274]\n",
      "\tGetHandleVerifier [0x00007FF72E978A79+5401]\n",
      "\tBaseThreadInitThunk [0x00007FF96916E8D7+23]\n",
      "\tRtlUserThreadStart [0x00007FF96943C5DC+44]\n",
      "\n"
     ]
    }
   ],
   "source": [
    "\n",
    "count = 1\n",
    "content_cmt,date_cmt,star_cmt = [],[],[]\n",
    "while True:\n",
    "      try:\n",
    "            print(\"Craw page \" + str(count))\n",
    "            count+=1\n",
    "            \n",
    "            content = driver.find_elements(By.CSS_SELECTOR, \".item-content .content:not(.seller-reply-wrapper .content)\")\n",
    "            content_cmt = [elem.text for elem in content] + content_cmt\n",
    "\n",
    "            \n",
    "            review_elements = driver.find_elements(By.CSS_SELECTOR, \".container-star.starCtn.left\")\n",
    "            for review in review_elements:\n",
    "                  stars = review.find_elements(By.CSS_SELECTOR, \"img.star\")\n",
    "                              \n",
    "                  bright_stars = 0\n",
    "                  for star in stars:\n",
    "                        src = star.get_attribute(\"src\")\n",
    "                  \n",
    "                        if \"TB19ZvEgfDH8KJjy1XcXXcpdXXa\" in src:\n",
    "                              bright_stars += 1\n",
    "                  star_cmt.append(bright_stars)\n",
    "                  \n",
    "              \n",
    "            date = driver.find_elements(By.CSS_SELECTOR,\".top .title \" )\n",
    "            date_cmt = [elem.text for elem in date] + date_cmt\n",
    "            \n",
    "            next = driver.find_element(By.XPATH, \"/html/body/div[5]/div/div[10]/div[1]/div[2]/div/div/div/div[3]/div[2]/div/button[2]/i\")\n",
    "            next_cmt = next.click()\n",
    "            sleep(5)\n",
    "            \n",
    "      \n",
    "            try :\n",
    "                  next_1 = driver.find_element(By.CLASS_NAME,\"baxia-dialog-close\")\n",
    "                  next_1_cmt = next_1.click()\n",
    "                  sleep(7)\n",
    "\n",
    "            except ElementNotInteractableException:\n",
    "                  continue\n",
    "                              \n",
    "      except (ElementNotInteractableException, NoSuchElementException,ElementClickInterceptedException) as e :\n",
    "            print(\"Lỗi \",e)\n",
    "            break   \n",
    "      "
   ]
  },
  {
   "cell_type": "code",
   "execution_count": 11,
   "id": "30bf842e",
   "metadata": {},
   "outputs": [
    {
     "name": "stdout",
     "output_type": "stream",
     "text": [
      "Đã lưu bình luận vào file\n"
     ]
    }
   ],
   "source": [
    "df = pd.DataFrame(list(zip(content_cmt,star_cmt, date_cmt)), columns=['content_cmt','star_cmt','date_cmt'])\n",
    "\n",
    "# Lưu DataFrame vào file CSV\n",
    "df.to_csv(\"test_shop_HadaLabo.csv\",mode=\"a\",header=False, index=False, encoding='utf-8')\n",
    "\n",
    "print(\"Đã lưu bình luận vào file\")"
   ]
  },
  {
   "cell_type": "code",
   "execution_count": null,
   "id": "d12da2e6",
   "metadata": {},
   "outputs": [],
   "source": []
  }
 ],
 "metadata": {
  "kernelspec": {
   "display_name": "Python 3",
   "language": "python",
   "name": "python3"
  },
  "language_info": {
   "codemirror_mode": {
    "name": "ipython",
    "version": 3
   },
   "file_extension": ".py",
   "mimetype": "text/x-python",
   "name": "python",
   "nbconvert_exporter": "python",
   "pygments_lexer": "ipython3",
   "version": "3.13.2"
  }
 },
 "nbformat": 4,
 "nbformat_minor": 5
}
